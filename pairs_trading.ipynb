{
 "cells": [
  {
   "cell_type": "code",
   "execution_count": 12,
   "id": "43f2634b",
   "metadata": {},
   "outputs": [],
   "source": [
    "import yfinance as yf\n",
    "import requests\n",
    "import json\n",
    "import pandas as pd\n",
    "import matplotlib.pyplot as plt"
   ]
  },
  {
   "cell_type": "code",
   "execution_count": 19,
   "id": "609785c1",
   "metadata": {},
   "outputs": [
    {
     "name": "stdout",
     "output_type": "stream",
     "text": [
      "⚠️ 'Adj Close' not found for KO, using 'Close' instead\n",
      "⚠️ 'Adj Close' not found for PEP, using 'Close' instead\n",
      "                   KO         PEP\n",
      "Date                             \n",
      "2023-01-03  57.923157  164.087463\n",
      "2023-01-04  57.895550  163.685028\n",
      "2023-01-05  57.233051  161.974762\n",
      "2023-01-06  58.337223  165.633148\n",
      "2023-01-09  57.610313  164.014282\n"
     ]
    },
    {
     "name": "stderr",
     "output_type": "stream",
     "text": [
      "C:\\Users\\jmlud\\AppData\\Local\\Temp\\ipykernel_908\\289051401.py:2: FutureWarning: YF.download() has changed argument auto_adjust default to True\n",
      "  data = yf.download(ticker, start=start, end=end, progress=False)\n",
      "C:\\Users\\jmlud\\AppData\\Local\\Temp\\ipykernel_908\\289051401.py:2: FutureWarning: YF.download() has changed argument auto_adjust default to True\n",
      "  data = yf.download(ticker, start=start, end=end, progress=False)\n"
     ]
    }
   ],
   "source": [
    "def get_prices(ticker, start=\"2023-01-01\", end=\"2025-01-01\"):\n",
    "    data = yf.download(ticker, start=start, end=end, progress=False)\n",
    "    if data.empty:\n",
    "        raise ValueError(f\"No data returned for {ticker}\")\n",
    "    if \"Adj Close\" in data.columns:\n",
    "        return data[\"Adj Close\"]\n",
    "    else:\n",
    "        print(f\"⚠️ 'Adj Close' not found for {ticker}, using 'Close' instead\")\n",
    "        return data[\"Close\"]\n",
    "\n",
    "# Fetch separately\n",
    "ko = get_prices(\"KO\")\n",
    "pep = get_prices(\"PEP\")\n",
    "\n",
    "# Merge into one DataFrame\n",
    "data = pd.concat([ko, pep], axis=1)\n",
    "data.columns = [\"KO\", \"PEP\"]\n",
    "\n",
    "print(data.head())"
   ]
  },
  {
   "cell_type": "code",
   "execution_count": null,
   "id": "eaafb1df",
   "metadata": {},
   "outputs": [],
   "source": []
  }
 ],
 "metadata": {
  "kernelspec": {
   "display_name": "venv",
   "language": "python",
   "name": "python3"
  },
  "language_info": {
   "codemirror_mode": {
    "name": "ipython",
    "version": 3
   },
   "file_extension": ".py",
   "mimetype": "text/x-python",
   "name": "python",
   "nbconvert_exporter": "python",
   "pygments_lexer": "ipython3",
   "version": "3.10.5"
  }
 },
 "nbformat": 4,
 "nbformat_minor": 5
}
