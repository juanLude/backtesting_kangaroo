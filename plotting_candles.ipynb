{
 "cells": [
  {
   "cell_type": "code",
   "execution_count": 9,
   "id": "60407406",
   "metadata": {},
   "outputs": [],
   "source": [
    "import pandas as pd\n",
    "import plotly.graph_objects as go\n",
    "import datetime as dt\n"
   ]
  },
  {
   "cell_type": "code",
   "execution_count": 10,
   "id": "f225b637",
   "metadata": {},
   "outputs": [],
   "source": [
    "pair = \"EUR_USD\"\n",
    "granularity = \"H1\"\n",
    "df = pd.read_pickle(f\"./data/{pair}_{granularity}.pkl\")\n"
   ]
  },
  {
   "cell_type": "code",
   "execution_count": 11,
   "id": "ff02ab7c",
   "metadata": {},
   "outputs": [
    {
     "data": {
      "text/html": [
       "<div>\n",
       "<style scoped>\n",
       "    .dataframe tbody tr th:only-of-type {\n",
       "        vertical-align: middle;\n",
       "    }\n",
       "\n",
       "    .dataframe tbody tr th {\n",
       "        vertical-align: top;\n",
       "    }\n",
       "\n",
       "    .dataframe thead th {\n",
       "        text-align: right;\n",
       "    }\n",
       "</style>\n",
       "<table border=\"1\" class=\"dataframe\">\n",
       "  <thead>\n",
       "    <tr style=\"text-align: right;\">\n",
       "      <th></th>\n",
       "      <th>time</th>\n",
       "      <th>volume</th>\n",
       "      <th>mid_o</th>\n",
       "      <th>mid_h</th>\n",
       "      <th>mid_l</th>\n",
       "      <th>mid_c</th>\n",
       "      <th>bid_o</th>\n",
       "      <th>bid_h</th>\n",
       "      <th>bid_l</th>\n",
       "      <th>bid_c</th>\n",
       "      <th>ask_o</th>\n",
       "      <th>ask_h</th>\n",
       "      <th>ask_l</th>\n",
       "      <th>ask_c</th>\n",
       "    </tr>\n",
       "  </thead>\n",
       "  <tbody>\n",
       "    <tr>\n",
       "      <th>3995</th>\n",
       "      <td>2025-10-22 19:00:00+00:00</td>\n",
       "      <td>4048</td>\n",
       "      <td>1.16092</td>\n",
       "      <td>1.16112</td>\n",
       "      <td>1.16048</td>\n",
       "      <td>1.16060</td>\n",
       "      <td>1.16083</td>\n",
       "      <td>1.16104</td>\n",
       "      <td>1.16041</td>\n",
       "      <td>1.16052</td>\n",
       "      <td>1.16100</td>\n",
       "      <td>1.16121</td>\n",
       "      <td>1.16056</td>\n",
       "      <td>1.16067</td>\n",
       "    </tr>\n",
       "    <tr>\n",
       "      <th>3996</th>\n",
       "      <td>2025-10-22 20:00:00+00:00</td>\n",
       "      <td>1576</td>\n",
       "      <td>1.16059</td>\n",
       "      <td>1.16110</td>\n",
       "      <td>1.16058</td>\n",
       "      <td>1.16100</td>\n",
       "      <td>1.16051</td>\n",
       "      <td>1.16101</td>\n",
       "      <td>1.16051</td>\n",
       "      <td>1.16091</td>\n",
       "      <td>1.16067</td>\n",
       "      <td>1.16118</td>\n",
       "      <td>1.16066</td>\n",
       "      <td>1.16109</td>\n",
       "    </tr>\n",
       "    <tr>\n",
       "      <th>3997</th>\n",
       "      <td>2025-10-22 21:00:00+00:00</td>\n",
       "      <td>573</td>\n",
       "      <td>1.16124</td>\n",
       "      <td>1.16134</td>\n",
       "      <td>1.16106</td>\n",
       "      <td>1.16130</td>\n",
       "      <td>1.16083</td>\n",
       "      <td>1.16115</td>\n",
       "      <td>1.16067</td>\n",
       "      <td>1.16111</td>\n",
       "      <td>1.16165</td>\n",
       "      <td>1.16165</td>\n",
       "      <td>1.16124</td>\n",
       "      <td>1.16150</td>\n",
       "    </tr>\n",
       "    <tr>\n",
       "      <th>3998</th>\n",
       "      <td>2025-10-22 22:00:00+00:00</td>\n",
       "      <td>839</td>\n",
       "      <td>1.16130</td>\n",
       "      <td>1.16146</td>\n",
       "      <td>1.16112</td>\n",
       "      <td>1.16123</td>\n",
       "      <td>1.16112</td>\n",
       "      <td>1.16138</td>\n",
       "      <td>1.16102</td>\n",
       "      <td>1.16114</td>\n",
       "      <td>1.16148</td>\n",
       "      <td>1.16155</td>\n",
       "      <td>1.16122</td>\n",
       "      <td>1.16132</td>\n",
       "    </tr>\n",
       "    <tr>\n",
       "      <th>3999</th>\n",
       "      <td>2025-10-22 23:00:00+00:00</td>\n",
       "      <td>2142</td>\n",
       "      <td>1.16125</td>\n",
       "      <td>1.16127</td>\n",
       "      <td>1.16067</td>\n",
       "      <td>1.16072</td>\n",
       "      <td>1.16117</td>\n",
       "      <td>1.16118</td>\n",
       "      <td>1.16059</td>\n",
       "      <td>1.16063</td>\n",
       "      <td>1.16133</td>\n",
       "      <td>1.16137</td>\n",
       "      <td>1.16075</td>\n",
       "      <td>1.16081</td>\n",
       "    </tr>\n",
       "  </tbody>\n",
       "</table>\n",
       "</div>"
      ],
      "text/plain": [
       "                          time  volume    mid_o    mid_h    mid_l    mid_c  \\\n",
       "3995 2025-10-22 19:00:00+00:00    4048  1.16092  1.16112  1.16048  1.16060   \n",
       "3996 2025-10-22 20:00:00+00:00    1576  1.16059  1.16110  1.16058  1.16100   \n",
       "3997 2025-10-22 21:00:00+00:00     573  1.16124  1.16134  1.16106  1.16130   \n",
       "3998 2025-10-22 22:00:00+00:00     839  1.16130  1.16146  1.16112  1.16123   \n",
       "3999 2025-10-22 23:00:00+00:00    2142  1.16125  1.16127  1.16067  1.16072   \n",
       "\n",
       "        bid_o    bid_h    bid_l    bid_c    ask_o    ask_h    ask_l    ask_c  \n",
       "3995  1.16083  1.16104  1.16041  1.16052  1.16100  1.16121  1.16056  1.16067  \n",
       "3996  1.16051  1.16101  1.16051  1.16091  1.16067  1.16118  1.16066  1.16109  \n",
       "3997  1.16083  1.16115  1.16067  1.16111  1.16165  1.16165  1.16124  1.16150  \n",
       "3998  1.16112  1.16138  1.16102  1.16114  1.16148  1.16155  1.16122  1.16132  \n",
       "3999  1.16117  1.16118  1.16059  1.16063  1.16133  1.16137  1.16075  1.16081  "
      ]
     },
     "execution_count": 11,
     "metadata": {},
     "output_type": "execute_result"
    }
   ],
   "source": [
    "df.tail()"
   ]
  },
  {
   "cell_type": "code",
   "execution_count": null,
   "id": "21308c57",
   "metadata": {},
   "outputs": [],
   "source": [
    "# turn dates type to string to avoid having weekend gaps on chart\n",
    "# this is a workaround, better solution would be to use rangebreaks in plotly\n",
    "df['sTime']=[dt.datetime.strftime(x,\"s%y-%m-%d %H:%M\") for x in df.time] "
   ]
  },
  {
   "cell_type": "code",
   "execution_count": null,
   "id": "55526264",
   "metadata": {},
   "outputs": [],
   "source": [
    "\n",
    "df_plot = df.iloc[:200] # plot only first 200 rows for clarity"
   ]
  },
  {
   "cell_type": "code",
   "execution_count": 14,
   "id": "8698423d",
   "metadata": {},
   "outputs": [
    {
     "data": {
      "application/vnd.plotly.v1+json": {
       "config": {
        "plotlyServerURL": "https://plot.ly"
       },
       "data": [
        {
         "close": {
          "bdata": "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",
          "dtype": "f8"
         },
         "decreasing": {
          "fillcolor": "#CC2E3C",
          "line": {
           "color": "#FF3A4C"
          }
         },
         "high": {
          "bdata": "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",
          "dtype": "f8"
         },
         "increasing": {
          "fillcolor": "#24A06B",
          "line": {
           "color": "#2EC886"
          }
         },
         "line": {
          "width": 1
         },
         "low": {
          "bdata": "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",
          "dtype": "f8"
         },
         "opacity": 1,
         "open": {
          "bdata": "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",
          "dtype": "f8"
         },
         "type": "candlestick",
         "x": [
          "s25-03-04 09:00",
          "s25-03-04 10:00",
          "s25-03-04 11:00",
          "s25-03-04 12:00",
          "s25-03-04 13:00",
          "s25-03-04 14:00",
          "s25-03-04 15:00",
          "s25-03-04 16:00",
          "s25-03-04 17:00",
          "s25-03-04 18:00",
          "s25-03-04 19:00",
          "s25-03-04 20:00",
          "s25-03-04 21:00",
          "s25-03-04 22:00",
          "s25-03-04 23:00",
          "s25-03-05 00:00",
          "s25-03-05 01:00",
          "s25-03-05 02:00",
          "s25-03-05 03:00",
          "s25-03-05 04:00",
          "s25-03-05 05:00",
          "s25-03-05 06:00",
          "s25-03-05 07:00",
          "s25-03-05 08:00",
          "s25-03-05 09:00",
          "s25-03-05 10:00",
          "s25-03-05 11:00",
          "s25-03-05 12:00",
          "s25-03-05 13:00",
          "s25-03-05 14:00",
          "s25-03-05 15:00",
          "s25-03-05 16:00",
          "s25-03-05 17:00",
          "s25-03-05 18:00",
          "s25-03-05 19:00",
          "s25-03-05 20:00",
          "s25-03-05 21:00",
          "s25-03-05 22:00",
          "s25-03-05 23:00",
          "s25-03-06 00:00",
          "s25-03-06 01:00",
          "s25-03-06 02:00",
          "s25-03-06 03:00",
          "s25-03-06 04:00",
          "s25-03-06 05:00",
          "s25-03-06 06:00",
          "s25-03-06 07:00",
          "s25-03-06 08:00",
          "s25-03-06 09:00",
          "s25-03-06 10:00",
          "s25-03-06 11:00",
          "s25-03-06 12:00",
          "s25-03-06 13:00",
          "s25-03-06 14:00",
          "s25-03-06 15:00",
          "s25-03-06 16:00",
          "s25-03-06 17:00",
          "s25-03-06 18:00",
          "s25-03-06 19:00",
          "s25-03-06 20:00",
          "s25-03-06 21:00",
          "s25-03-06 22:00",
          "s25-03-06 23:00",
          "s25-03-07 00:00",
          "s25-03-07 01:00",
          "s25-03-07 02:00",
          "s25-03-07 03:00",
          "s25-03-07 04:00",
          "s25-03-07 05:00",
          "s25-03-07 06:00",
          "s25-03-07 07:00",
          "s25-03-07 08:00",
          "s25-03-07 09:00",
          "s25-03-07 10:00",
          "s25-03-07 11:00",
          "s25-03-07 12:00",
          "s25-03-07 13:00",
          "s25-03-07 14:00",
          "s25-03-07 15:00",
          "s25-03-07 16:00",
          "s25-03-07 17:00",
          "s25-03-07 18:00",
          "s25-03-07 19:00",
          "s25-03-07 20:00",
          "s25-03-07 21:00",
          "s25-03-09 21:00",
          "s25-03-09 22:00",
          "s25-03-09 23:00",
          "s25-03-10 00:00",
          "s25-03-10 01:00",
          "s25-03-10 02:00",
          "s25-03-10 03:00",
          "s25-03-10 04:00",
          "s25-03-10 05:00",
          "s25-03-10 06:00",
          "s25-03-10 07:00",
          "s25-03-10 08:00",
          "s25-03-10 09:00",
          "s25-03-10 10:00",
          "s25-03-10 11:00",
          "s25-03-10 12:00",
          "s25-03-10 13:00",
          "s25-03-10 14:00",
          "s25-03-10 15:00",
          "s25-03-10 16:00",
          "s25-03-10 17:00",
          "s25-03-10 18:00",
          "s25-03-10 19:00",
          "s25-03-10 20:00",
          "s25-03-10 21:00",
          "s25-03-10 22:00",
          "s25-03-10 23:00",
          "s25-03-11 00:00",
          "s25-03-11 01:00",
          "s25-03-11 02:00",
          "s25-03-11 03:00",
          "s25-03-11 04:00",
          "s25-03-11 05:00",
          "s25-03-11 06:00",
          "s25-03-11 07:00",
          "s25-03-11 08:00",
          "s25-03-11 09:00",
          "s25-03-11 10:00",
          "s25-03-11 11:00",
          "s25-03-11 12:00",
          "s25-03-11 13:00",
          "s25-03-11 14:00",
          "s25-03-11 15:00",
          "s25-03-11 16:00",
          "s25-03-11 17:00",
          "s25-03-11 18:00",
          "s25-03-11 19:00",
          "s25-03-11 20:00",
          "s25-03-11 21:00",
          "s25-03-11 22:00",
          "s25-03-11 23:00",
          "s25-03-12 00:00",
          "s25-03-12 01:00",
          "s25-03-12 02:00",
          "s25-03-12 03:00",
          "s25-03-12 04:00",
          "s25-03-12 05:00",
          "s25-03-12 06:00",
          "s25-03-12 07:00",
          "s25-03-12 08:00",
          "s25-03-12 09:00",
          "s25-03-12 10:00",
          "s25-03-12 11:00",
          "s25-03-12 12:00",
          "s25-03-12 13:00",
          "s25-03-12 14:00",
          "s25-03-12 15:00",
          "s25-03-12 16:00",
          "s25-03-12 17:00",
          "s25-03-12 18:00",
          "s25-03-12 19:00",
          "s25-03-12 20:00",
          "s25-03-12 21:00",
          "s25-03-12 22:00",
          "s25-03-12 23:00",
          "s25-03-13 00:00",
          "s25-03-13 01:00",
          "s25-03-13 02:00",
          "s25-03-13 03:00",
          "s25-03-13 04:00",
          "s25-03-13 05:00",
          "s25-03-13 06:00",
          "s25-03-13 07:00",
          "s25-03-13 08:00",
          "s25-03-13 09:00",
          "s25-03-13 10:00",
          "s25-03-13 11:00",
          "s25-03-13 12:00",
          "s25-03-13 13:00",
          "s25-03-13 14:00",
          "s25-03-13 15:00",
          "s25-03-13 16:00",
          "s25-03-13 17:00",
          "s25-03-13 18:00",
          "s25-03-13 19:00",
          "s25-03-13 20:00",
          "s25-03-13 21:00",
          "s25-03-13 22:00",
          "s25-03-13 23:00",
          "s25-03-14 00:00",
          "s25-03-14 01:00",
          "s25-03-14 02:00",
          "s25-03-14 03:00",
          "s25-03-14 04:00",
          "s25-03-14 05:00",
          "s25-03-14 06:00",
          "s25-03-14 07:00",
          "s25-03-14 08:00",
          "s25-03-14 09:00",
          "s25-03-14 10:00",
          "s25-03-14 11:00",
          "s25-03-14 12:00",
          "s25-03-14 13:00",
          "s25-03-14 14:00",
          "s25-03-14 15:00"
         ]
        }
       ],
       "layout": {
        "font": {
         "color": "#e1e1e1",
         "size": 8
        },
        "height": 400,
        "margin": {
         "b": 10,
         "l": 10,
         "r": 10,
         "t": 10
        },
        "paper_bgcolor": "#2c303c",
        "plot_bgcolor": "#2c303c",
        "template": {
         "data": {
          "bar": [
           {
            "error_x": {
             "color": "#2a3f5f"
            },
            "error_y": {
             "color": "#2a3f5f"
            },
            "marker": {
             "line": {
              "color": "#E5ECF6",
              "width": 0.5
             },
             "pattern": {
              "fillmode": "overlay",
              "size": 10,
              "solidity": 0.2
             }
            },
            "type": "bar"
           }
          ],
          "barpolar": [
           {
            "marker": {
             "line": {
              "color": "#E5ECF6",
              "width": 0.5
             },
             "pattern": {
              "fillmode": "overlay",
              "size": 10,
              "solidity": 0.2
             }
            },
            "type": "barpolar"
           }
          ],
          "carpet": [
           {
            "aaxis": {
             "endlinecolor": "#2a3f5f",
             "gridcolor": "white",
             "linecolor": "white",
             "minorgridcolor": "white",
             "startlinecolor": "#2a3f5f"
            },
            "baxis": {
             "endlinecolor": "#2a3f5f",
             "gridcolor": "white",
             "linecolor": "white",
             "minorgridcolor": "white",
             "startlinecolor": "#2a3f5f"
            },
            "type": "carpet"
           }
          ],
          "choropleth": [
           {
            "colorbar": {
             "outlinewidth": 0,
             "ticks": ""
            },
            "type": "choropleth"
           }
          ],
          "contour": [
           {
            "colorbar": {
             "outlinewidth": 0,
             "ticks": ""
            },
            "colorscale": [
             [
              0,
              "#0d0887"
             ],
             [
              0.1111111111111111,
              "#46039f"
             ],
             [
              0.2222222222222222,
              "#7201a8"
             ],
             [
              0.3333333333333333,
              "#9c179e"
             ],
             [
              0.4444444444444444,
              "#bd3786"
             ],
             [
              0.5555555555555556,
              "#d8576b"
             ],
             [
              0.6666666666666666,
              "#ed7953"
             ],
             [
              0.7777777777777778,
              "#fb9f3a"
             ],
             [
              0.8888888888888888,
              "#fdca26"
             ],
             [
              1,
              "#f0f921"
             ]
            ],
            "type": "contour"
           }
          ],
          "contourcarpet": [
           {
            "colorbar": {
             "outlinewidth": 0,
             "ticks": ""
            },
            "type": "contourcarpet"
           }
          ],
          "heatmap": [
           {
            "colorbar": {
             "outlinewidth": 0,
             "ticks": ""
            },
            "colorscale": [
             [
              0,
              "#0d0887"
             ],
             [
              0.1111111111111111,
              "#46039f"
             ],
             [
              0.2222222222222222,
              "#7201a8"
             ],
             [
              0.3333333333333333,
              "#9c179e"
             ],
             [
              0.4444444444444444,
              "#bd3786"
             ],
             [
              0.5555555555555556,
              "#d8576b"
             ],
             [
              0.6666666666666666,
              "#ed7953"
             ],
             [
              0.7777777777777778,
              "#fb9f3a"
             ],
             [
              0.8888888888888888,
              "#fdca26"
             ],
             [
              1,
              "#f0f921"
             ]
            ],
            "type": "heatmap"
           }
          ],
          "histogram": [
           {
            "marker": {
             "pattern": {
              "fillmode": "overlay",
              "size": 10,
              "solidity": 0.2
             }
            },
            "type": "histogram"
           }
          ],
          "histogram2d": [
           {
            "colorbar": {
             "outlinewidth": 0,
             "ticks": ""
            },
            "colorscale": [
             [
              0,
              "#0d0887"
             ],
             [
              0.1111111111111111,
              "#46039f"
             ],
             [
              0.2222222222222222,
              "#7201a8"
             ],
             [
              0.3333333333333333,
              "#9c179e"
             ],
             [
              0.4444444444444444,
              "#bd3786"
             ],
             [
              0.5555555555555556,
              "#d8576b"
             ],
             [
              0.6666666666666666,
              "#ed7953"
             ],
             [
              0.7777777777777778,
              "#fb9f3a"
             ],
             [
              0.8888888888888888,
              "#fdca26"
             ],
             [
              1,
              "#f0f921"
             ]
            ],
            "type": "histogram2d"
           }
          ],
          "histogram2dcontour": [
           {
            "colorbar": {
             "outlinewidth": 0,
             "ticks": ""
            },
            "colorscale": [
             [
              0,
              "#0d0887"
             ],
             [
              0.1111111111111111,
              "#46039f"
             ],
             [
              0.2222222222222222,
              "#7201a8"
             ],
             [
              0.3333333333333333,
              "#9c179e"
             ],
             [
              0.4444444444444444,
              "#bd3786"
             ],
             [
              0.5555555555555556,
              "#d8576b"
             ],
             [
              0.6666666666666666,
              "#ed7953"
             ],
             [
              0.7777777777777778,
              "#fb9f3a"
             ],
             [
              0.8888888888888888,
              "#fdca26"
             ],
             [
              1,
              "#f0f921"
             ]
            ],
            "type": "histogram2dcontour"
           }
          ],
          "mesh3d": [
           {
            "colorbar": {
             "outlinewidth": 0,
             "ticks": ""
            },
            "type": "mesh3d"
           }
          ],
          "parcoords": [
           {
            "line": {
             "colorbar": {
              "outlinewidth": 0,
              "ticks": ""
             }
            },
            "type": "parcoords"
           }
          ],
          "pie": [
           {
            "automargin": true,
            "type": "pie"
           }
          ],
          "scatter": [
           {
            "fillpattern": {
             "fillmode": "overlay",
             "size": 10,
             "solidity": 0.2
            },
            "type": "scatter"
           }
          ],
          "scatter3d": [
           {
            "line": {
             "colorbar": {
              "outlinewidth": 0,
              "ticks": ""
             }
            },
            "marker": {
             "colorbar": {
              "outlinewidth": 0,
              "ticks": ""
             }
            },
            "type": "scatter3d"
           }
          ],
          "scattercarpet": [
           {
            "marker": {
             "colorbar": {
              "outlinewidth": 0,
              "ticks": ""
             }
            },
            "type": "scattercarpet"
           }
          ],
          "scattergeo": [
           {
            "marker": {
             "colorbar": {
              "outlinewidth": 0,
              "ticks": ""
             }
            },
            "type": "scattergeo"
           }
          ],
          "scattergl": [
           {
            "marker": {
             "colorbar": {
              "outlinewidth": 0,
              "ticks": ""
             }
            },
            "type": "scattergl"
           }
          ],
          "scattermap": [
           {
            "marker": {
             "colorbar": {
              "outlinewidth": 0,
              "ticks": ""
             }
            },
            "type": "scattermap"
           }
          ],
          "scattermapbox": [
           {
            "marker": {
             "colorbar": {
              "outlinewidth": 0,
              "ticks": ""
             }
            },
            "type": "scattermapbox"
           }
          ],
          "scatterpolar": [
           {
            "marker": {
             "colorbar": {
              "outlinewidth": 0,
              "ticks": ""
             }
            },
            "type": "scatterpolar"
           }
          ],
          "scatterpolargl": [
           {
            "marker": {
             "colorbar": {
              "outlinewidth": 0,
              "ticks": ""
             }
            },
            "type": "scatterpolargl"
           }
          ],
          "scatterternary": [
           {
            "marker": {
             "colorbar": {
              "outlinewidth": 0,
              "ticks": ""
             }
            },
            "type": "scatterternary"
           }
          ],
          "surface": [
           {
            "colorbar": {
             "outlinewidth": 0,
             "ticks": ""
            },
            "colorscale": [
             [
              0,
              "#0d0887"
             ],
             [
              0.1111111111111111,
              "#46039f"
             ],
             [
              0.2222222222222222,
              "#7201a8"
             ],
             [
              0.3333333333333333,
              "#9c179e"
             ],
             [
              0.4444444444444444,
              "#bd3786"
             ],
             [
              0.5555555555555556,
              "#d8576b"
             ],
             [
              0.6666666666666666,
              "#ed7953"
             ],
             [
              0.7777777777777778,
              "#fb9f3a"
             ],
             [
              0.8888888888888888,
              "#fdca26"
             ],
             [
              1,
              "#f0f921"
             ]
            ],
            "type": "surface"
           }
          ],
          "table": [
           {
            "cells": {
             "fill": {
              "color": "#EBF0F8"
             },
             "line": {
              "color": "white"
             }
            },
            "header": {
             "fill": {
              "color": "#C8D4E3"
             },
             "line": {
              "color": "white"
             }
            },
            "type": "table"
           }
          ]
         },
         "layout": {
          "annotationdefaults": {
           "arrowcolor": "#2a3f5f",
           "arrowhead": 0,
           "arrowwidth": 1
          },
          "autotypenumbers": "strict",
          "coloraxis": {
           "colorbar": {
            "outlinewidth": 0,
            "ticks": ""
           }
          },
          "colorscale": {
           "diverging": [
            [
             0,
             "#8e0152"
            ],
            [
             0.1,
             "#c51b7d"
            ],
            [
             0.2,
             "#de77ae"
            ],
            [
             0.3,
             "#f1b6da"
            ],
            [
             0.4,
             "#fde0ef"
            ],
            [
             0.5,
             "#f7f7f7"
            ],
            [
             0.6,
             "#e6f5d0"
            ],
            [
             0.7,
             "#b8e186"
            ],
            [
             0.8,
             "#7fbc41"
            ],
            [
             0.9,
             "#4d9221"
            ],
            [
             1,
             "#276419"
            ]
           ],
           "sequential": [
            [
             0,
             "#0d0887"
            ],
            [
             0.1111111111111111,
             "#46039f"
            ],
            [
             0.2222222222222222,
             "#7201a8"
            ],
            [
             0.3333333333333333,
             "#9c179e"
            ],
            [
             0.4444444444444444,
             "#bd3786"
            ],
            [
             0.5555555555555556,
             "#d8576b"
            ],
            [
             0.6666666666666666,
             "#ed7953"
            ],
            [
             0.7777777777777778,
             "#fb9f3a"
            ],
            [
             0.8888888888888888,
             "#fdca26"
            ],
            [
             1,
             "#f0f921"
            ]
           ],
           "sequentialminus": [
            [
             0,
             "#0d0887"
            ],
            [
             0.1111111111111111,
             "#46039f"
            ],
            [
             0.2222222222222222,
             "#7201a8"
            ],
            [
             0.3333333333333333,
             "#9c179e"
            ],
            [
             0.4444444444444444,
             "#bd3786"
            ],
            [
             0.5555555555555556,
             "#d8576b"
            ],
            [
             0.6666666666666666,
             "#ed7953"
            ],
            [
             0.7777777777777778,
             "#fb9f3a"
            ],
            [
             0.8888888888888888,
             "#fdca26"
            ],
            [
             1,
             "#f0f921"
            ]
           ]
          },
          "colorway": [
           "#636efa",
           "#EF553B",
           "#00cc96",
           "#ab63fa",
           "#FFA15A",
           "#19d3f3",
           "#FF6692",
           "#B6E880",
           "#FF97FF",
           "#FECB52"
          ],
          "font": {
           "color": "#2a3f5f"
          },
          "geo": {
           "bgcolor": "white",
           "lakecolor": "white",
           "landcolor": "#E5ECF6",
           "showlakes": true,
           "showland": true,
           "subunitcolor": "white"
          },
          "hoverlabel": {
           "align": "left"
          },
          "hovermode": "closest",
          "mapbox": {
           "style": "light"
          },
          "paper_bgcolor": "white",
          "plot_bgcolor": "#E5ECF6",
          "polar": {
           "angularaxis": {
            "gridcolor": "white",
            "linecolor": "white",
            "ticks": ""
           },
           "bgcolor": "#E5ECF6",
           "radialaxis": {
            "gridcolor": "white",
            "linecolor": "white",
            "ticks": ""
           }
          },
          "scene": {
           "xaxis": {
            "backgroundcolor": "#E5ECF6",
            "gridcolor": "white",
            "gridwidth": 2,
            "linecolor": "white",
            "showbackground": true,
            "ticks": "",
            "zerolinecolor": "white"
           },
           "yaxis": {
            "backgroundcolor": "#E5ECF6",
            "gridcolor": "white",
            "gridwidth": 2,
            "linecolor": "white",
            "showbackground": true,
            "ticks": "",
            "zerolinecolor": "white"
           },
           "zaxis": {
            "backgroundcolor": "#E5ECF6",
            "gridcolor": "white",
            "gridwidth": 2,
            "linecolor": "white",
            "showbackground": true,
            "ticks": "",
            "zerolinecolor": "white"
           }
          },
          "shapedefaults": {
           "line": {
            "color": "#2a3f5f"
           }
          },
          "ternary": {
           "aaxis": {
            "gridcolor": "white",
            "linecolor": "white",
            "ticks": ""
           },
           "baxis": {
            "gridcolor": "white",
            "linecolor": "white",
            "ticks": ""
           },
           "bgcolor": "#E5ECF6",
           "caxis": {
            "gridcolor": "white",
            "linecolor": "white",
            "ticks": ""
           }
          },
          "title": {
           "x": 0.05
          },
          "xaxis": {
           "automargin": true,
           "gridcolor": "white",
           "linecolor": "white",
           "ticks": "",
           "title": {
            "standoff": 15
           },
           "zerolinecolor": "white",
           "zerolinewidth": 2
          },
          "yaxis": {
           "automargin": true,
           "gridcolor": "white",
           "linecolor": "white",
           "ticks": "",
           "title": {
            "standoff": 15
           },
           "zerolinecolor": "white",
           "zerolinewidth": 2
          }
         }
        },
        "width": 900,
        "xaxis": {
         "gridcolor": "#1f292f",
         "nticks": 5,
         "rangeslider": {
          "visible": false
         }
        },
        "yaxis": {
         "gridcolor": "#1f292f"
        }
       }
      }
     },
     "metadata": {},
     "output_type": "display_data"
    }
   ],
   "source": [
    "fig = go.Figure()\n",
    "fig.add_trace(go.Candlestick(\n",
    "    x=df_plot.sTime,\n",
    "    open=df_plot.mid_o,\n",
    "     high=df_plot.mid_h,\n",
    "     low=df_plot.mid_l,\n",
    "     close=df_plot.mid_c,\n",
    "    line=dict(width=1), opacity=1,\n",
    "    increasing_fillcolor=\"#24A06B\",\n",
    "    decreasing_fillcolor=\"#CC2E3C\",\n",
    "    increasing_line_color=\"#2EC886\",\n",
    "    decreasing_line_color=\"#FF3A4C\",\n",
    "))\n",
    "fig.update_yaxes(\n",
    "    gridcolor=\"#1f292f\"\n",
    ")\n",
    "fig.update_xaxes(\n",
    "    gridcolor=\"#1f292f\",\n",
    "    rangeslider=dict(visible=False),\n",
    "    nticks=5\n",
    ")\n",
    "fig.update_layout(\n",
    "    width=900,\n",
    "    height=400,\n",
    "    margin=dict(l=10,r=10,b=10,t=10),\n",
    "    paper_bgcolor=\"#2c303c\",\n",
    "    plot_bgcolor=\"#2c303c\",\n",
    "    font=dict(size=8, color=\"#e1e1e1\"),\n",
    ")\n",
    "fig.show()"
   ]
  }
 ],
 "metadata": {
  "kernelspec": {
   "display_name": "venv",
   "language": "python",
   "name": "python3"
  },
  "language_info": {
   "codemirror_mode": {
    "name": "ipython",
    "version": 3
   },
   "file_extension": ".py",
   "mimetype": "text/x-python",
   "name": "python",
   "nbconvert_exporter": "python",
   "pygments_lexer": "ipython3",
   "version": "3.10.5"
  }
 },
 "nbformat": 4,
 "nbformat_minor": 5
}
