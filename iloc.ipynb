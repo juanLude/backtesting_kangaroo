{
 "cells": [
  {
   "cell_type": "code",
   "execution_count": 1,
   "id": "2f34be7d",
   "metadata": {},
   "outputs": [],
   "source": [
    "import pandas as pd"
   ]
  },
  {
   "cell_type": "code",
   "execution_count": 2,
   "id": "d1361847",
   "metadata": {},
   "outputs": [
    {
     "name": "stdout",
     "output_type": "stream",
     "text": [
      "  Employee Region  Sales_Q1  Sales_Q2\n",
      "0    Alice   East     12000     13000\n",
      "1      Bob   West     15000     16000\n",
      "2  Charlie   East     11000     10500\n",
      "3    Diana  South     18000     20000\n",
      "4    Ethan  North     14000     14500\n",
      "5    Fiona   West     13000     12000\n",
      "6   George  South     12500     15000\n"
     ]
    }
   ],
   "source": [
    "data = {\n",
    "    \"Employee\": [\"Alice\", \"Bob\", \"Charlie\", \"Diana\", \"Ethan\", \"Fiona\", \"George\"],\n",
    "    \"Region\": [\"East\", \"West\", \"East\", \"South\", \"North\", \"West\", \"South\"],\n",
    "    \"Sales_Q1\": [12000, 15000, 11000, 18000, 14000, 13000, 12500],\n",
    "    \"Sales_Q2\": [13000, 16000, 10500, 20000, 14500, 12000, 15000]\n",
    "}\n",
    "\n",
    "df = pd.DataFrame(data)\n",
    "print(df)"
   ]
  },
  {
   "cell_type": "code",
   "execution_count": 8,
   "id": "d0cc647b",
   "metadata": {},
   "outputs": [
    {
     "name": "stdout",
     "output_type": "stream",
     "text": [
      "  Employee Region  Sales_Q1  Sales_Q2\n",
      "0    Alice   East     12000     13000\n",
      "1      Bob   West     15000     16000\n",
      "2  Charlie   East     11000     10500\n"
     ]
    }
   ],
   "source": [
    "print(df.iloc[:3])"
   ]
  },
  {
   "cell_type": "code",
   "execution_count": 11,
   "id": "9ac9914b",
   "metadata": {},
   "outputs": [
    {
     "name": "stdout",
     "output_type": "stream",
     "text": [
      "  Employee Region  Sales_Q1  Sales_Q2\n",
      "5    Fiona   West     13000     12000\n",
      "6   George  South     12500     15000\n"
     ]
    }
   ],
   "source": [
    "print(df.iloc[-2:])"
   ]
  },
  {
   "cell_type": "code",
   "execution_count": 14,
   "id": "56664e0f",
   "metadata": {},
   "outputs": [
    {
     "name": "stdout",
     "output_type": "stream",
     "text": [
      "  Region  Sales_Q1  Sales_Q2\n",
      "2   East     11000     10500\n",
      "3  South     18000     20000\n",
      "4  North     14000     14500\n",
      "5   West     13000     12000\n"
     ]
    }
   ],
   "source": [
    "# rows 2 to 5 and columns 1 to 3\n",
    "print(df.iloc[2:6,1:4])"
   ]
  },
  {
   "cell_type": "code",
   "execution_count": 15,
   "id": "ee22fa72",
   "metadata": {},
   "outputs": [
    {
     "name": "stdout",
     "output_type": "stream",
     "text": [
      "20000\n"
     ]
    }
   ],
   "source": [
    "print(df.iloc[3,3])"
   ]
  },
  {
   "cell_type": "code",
   "execution_count": 18,
   "id": "1c0666c2",
   "metadata": {},
   "outputs": [
    {
     "name": "stdout",
     "output_type": "stream",
     "text": [
      "Employee      Fiona\n",
      "Region         West\n",
      "Sales_Q1      13000\n",
      "Sales_Q2    14520.0\n",
      "Name: 5, dtype: object\n"
     ]
    }
   ],
   "source": [
    "df.iloc[5,3] = (df.iloc[5,3]*1.10)\n",
    "print(df.iloc[5])"
   ]
  },
  {
   "cell_type": "code",
   "execution_count": 27,
   "id": "a252cdaa",
   "metadata": {},
   "outputs": [
    {
     "data": {
      "text/html": [
       "<div>\n",
       "<style scoped>\n",
       "    .dataframe tbody tr th:only-of-type {\n",
       "        vertical-align: middle;\n",
       "    }\n",
       "\n",
       "    .dataframe tbody tr th {\n",
       "        vertical-align: top;\n",
       "    }\n",
       "\n",
       "    .dataframe thead th {\n",
       "        text-align: right;\n",
       "    }\n",
       "</style>\n",
       "<table border=\"1\" class=\"dataframe\">\n",
       "  <thead>\n",
       "    <tr style=\"text-align: right;\">\n",
       "      <th></th>\n",
       "      <th>Employee</th>\n",
       "      <th>Region</th>\n",
       "      <th>Sales_Q1</th>\n",
       "      <th>Sales_Q2</th>\n",
       "      <th>Total_Sales</th>\n",
       "    </tr>\n",
       "  </thead>\n",
       "  <tbody>\n",
       "    <tr>\n",
       "      <th>3</th>\n",
       "      <td>Diana</td>\n",
       "      <td>South</td>\n",
       "      <td>18000</td>\n",
       "      <td>20000.0</td>\n",
       "      <td>38000.0</td>\n",
       "    </tr>\n",
       "    <tr>\n",
       "      <th>1</th>\n",
       "      <td>Bob</td>\n",
       "      <td>West</td>\n",
       "      <td>15000</td>\n",
       "      <td>16000.0</td>\n",
       "      <td>31000.0</td>\n",
       "    </tr>\n",
       "    <tr>\n",
       "      <th>4</th>\n",
       "      <td>Ethan</td>\n",
       "      <td>North</td>\n",
       "      <td>14000</td>\n",
       "      <td>14500.0</td>\n",
       "      <td>28500.0</td>\n",
       "    </tr>\n",
       "    <tr>\n",
       "      <th>5</th>\n",
       "      <td>Fiona</td>\n",
       "      <td>West</td>\n",
       "      <td>13000</td>\n",
       "      <td>14520.0</td>\n",
       "      <td>27520.0</td>\n",
       "    </tr>\n",
       "    <tr>\n",
       "      <th>6</th>\n",
       "      <td>George</td>\n",
       "      <td>South</td>\n",
       "      <td>12500</td>\n",
       "      <td>15000.0</td>\n",
       "      <td>27500.0</td>\n",
       "    </tr>\n",
       "    <tr>\n",
       "      <th>0</th>\n",
       "      <td>Alice</td>\n",
       "      <td>East</td>\n",
       "      <td>12000</td>\n",
       "      <td>13000.0</td>\n",
       "      <td>25000.0</td>\n",
       "    </tr>\n",
       "    <tr>\n",
       "      <th>2</th>\n",
       "      <td>Charlie</td>\n",
       "      <td>East</td>\n",
       "      <td>11000</td>\n",
       "      <td>10500.0</td>\n",
       "      <td>21500.0</td>\n",
       "    </tr>\n",
       "  </tbody>\n",
       "</table>\n",
       "</div>"
      ],
      "text/plain": [
       "  Employee Region  Sales_Q1  Sales_Q2  Total_Sales\n",
       "3    Diana  South     18000   20000.0      38000.0\n",
       "1      Bob   West     15000   16000.0      31000.0\n",
       "4    Ethan  North     14000   14500.0      28500.0\n",
       "5    Fiona   West     13000   14520.0      27520.0\n",
       "6   George  South     12500   15000.0      27500.0\n",
       "0    Alice   East     12000   13000.0      25000.0\n",
       "2  Charlie   East     11000   10500.0      21500.0"
      ]
     },
     "execution_count": 27,
     "metadata": {},
     "output_type": "execute_result"
    }
   ],
   "source": [
    "# Compute the average total sales for the top 3 performers using iloc to slice the top rows after sorting.\n",
    "df['Total_Sales'] = df['Sales_Q1'] + df['Sales_Q2']\n",
    "df_sorted = df.sort_values('Total_Sales', ascending=False)\n",
    "df_sorted"
   ]
  },
  {
   "cell_type": "code",
   "execution_count": 31,
   "id": "c8221a27",
   "metadata": {},
   "outputs": [
    {
     "name": "stdout",
     "output_type": "stream",
     "text": [
      "32500.0\n"
     ]
    }
   ],
   "source": [
    "avg_top_3 = df_sorted.iloc[:3,-1].mean()\n",
    "print(avg_top_3)"
   ]
  },
  {
   "cell_type": "code",
   "execution_count": null,
   "id": "b65f35f2",
   "metadata": {},
   "outputs": [],
   "source": []
  }
 ],
 "metadata": {
  "kernelspec": {
   "display_name": "venv",
   "language": "python",
   "name": "python3"
  },
  "language_info": {
   "codemirror_mode": {
    "name": "ipython",
    "version": 3
   },
   "file_extension": ".py",
   "mimetype": "text/x-python",
   "name": "python",
   "nbconvert_exporter": "python",
   "pygments_lexer": "ipython3",
   "version": "3.10.5"
  }
 },
 "nbformat": 4,
 "nbformat_minor": 5
}
