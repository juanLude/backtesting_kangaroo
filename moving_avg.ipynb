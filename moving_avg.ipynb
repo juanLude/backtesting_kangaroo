{
 "cells": [
  {
   "cell_type": "code",
   "execution_count": 6,
   "id": "72d445a3",
   "metadata": {},
   "outputs": [],
   "source": [
    "import pandas as pd\n",
    "import plotly.graph_objects as go\n",
    "import datetime as dt\n",
    "from plotting import CandlePlot\n",
    "\n"
   ]
  },
  {
   "cell_type": "code",
   "execution_count": 7,
   "id": "b69e56b0",
   "metadata": {},
   "outputs": [],
   "source": [
    "pair=\"EUR_USD\"\n",
    "granularity=\"H1\"\n",
    "df = pd.read_pickle(f\"./data/{pair}_{granularity}.pkl\")"
   ]
  },
  {
   "cell_type": "code",
   "execution_count": 8,
   "id": "6bd8bc95",
   "metadata": {},
   "outputs": [],
   "source": [
    "df_plot = df.iloc[:100]"
   ]
  },
  {
   "cell_type": "code",
   "execution_count": 9,
   "id": "bfd86e77",
   "metadata": {},
   "outputs": [
    {
     "data": {
      "text/plain": [
       "(100, 14)"
      ]
     },
     "execution_count": 9,
     "metadata": {},
     "output_type": "execute_result"
    }
   ],
   "source": [
    "df_plot.shape"
   ]
  },
  {
   "cell_type": "code",
   "execution_count": 12,
   "id": "f11677b6",
   "metadata": {},
   "outputs": [
    {
     "ename": "TypeError",
     "evalue": "CandlePlot.add_timestr() missing 1 required positional argument: 'time_str'",
     "output_type": "error",
     "traceback": [
      "\u001b[1;31m---------------------------------------------------------------------------\u001b[0m",
      "\u001b[1;31mTypeError\u001b[0m                                 Traceback (most recent call last)",
      "Cell \u001b[1;32mIn[12], line 1\u001b[0m\n\u001b[1;32m----> 1\u001b[0m cp \u001b[38;5;241m=\u001b[39m \u001b[43mCandlePlot\u001b[49m\u001b[43m(\u001b[49m\u001b[43mdf_plot\u001b[49m\u001b[43m)\u001b[49m\n\u001b[0;32m      2\u001b[0m cp\u001b[38;5;241m.\u001b[39mshow_plot()\n",
      "File \u001b[1;32mc:\\Users\\jmlud\\Desktop\\forex\\code\\exploration\\plotting.py:8\u001b[0m, in \u001b[0;36mCandlePlot.__init__\u001b[1;34m(self, df)\u001b[0m\n\u001b[0;32m      6\u001b[0m \u001b[38;5;28;01mdef\u001b[39;00m\u001b[38;5;250m \u001b[39m\u001b[38;5;21m__init__\u001b[39m(\u001b[38;5;28mself\u001b[39m, df):\n\u001b[0;32m      7\u001b[0m     \u001b[38;5;28mself\u001b[39m\u001b[38;5;241m.\u001b[39mdf_plot \u001b[38;5;241m=\u001b[39m df\u001b[38;5;241m.\u001b[39mcopy()\n\u001b[1;32m----> 8\u001b[0m     \u001b[38;5;28;43mself\u001b[39;49m\u001b[38;5;241;43m.\u001b[39;49m\u001b[43mcreate_candle_fig\u001b[49m\u001b[43m(\u001b[49m\u001b[43m)\u001b[49m\n",
      "File \u001b[1;32mc:\\Users\\jmlud\\Desktop\\forex\\code\\exploration\\plotting.py:15\u001b[0m, in \u001b[0;36mCandlePlot.create_candle_fig\u001b[1;34m(self)\u001b[0m\n\u001b[0;32m     14\u001b[0m \u001b[38;5;28;01mdef\u001b[39;00m\u001b[38;5;250m \u001b[39m\u001b[38;5;21mcreate_candle_fig\u001b[39m(\u001b[38;5;28mself\u001b[39m):\n\u001b[1;32m---> 15\u001b[0m     \u001b[38;5;28;43mself\u001b[39;49m\u001b[38;5;241;43m.\u001b[39;49m\u001b[43madd_timestr\u001b[49m\u001b[43m(\u001b[49m\u001b[43m)\u001b[49m\n\u001b[0;32m     16\u001b[0m     \u001b[38;5;28mself\u001b[39m\u001b[38;5;241m.\u001b[39mfig \u001b[38;5;241m=\u001b[39m go\u001b[38;5;241m.\u001b[39mFigure()\n\u001b[0;32m     17\u001b[0m     \u001b[38;5;28mself\u001b[39m\u001b[38;5;241m.\u001b[39mfig\u001b[38;5;241m.\u001b[39madd_trace(go\u001b[38;5;241m.\u001b[39mCandlestick(\n\u001b[0;32m     18\u001b[0m         x\u001b[38;5;241m=\u001b[39m\u001b[38;5;28mself\u001b[39m\u001b[38;5;241m.\u001b[39mdf_plot\u001b[38;5;241m.\u001b[39msTime,\n\u001b[0;32m     19\u001b[0m         \u001b[38;5;28mopen\u001b[39m\u001b[38;5;241m=\u001b[39m\u001b[38;5;28mself\u001b[39m\u001b[38;5;241m.\u001b[39mdf_plot\u001b[38;5;241m.\u001b[39mmid_o,\n\u001b[1;32m   (...)\u001b[0m\n\u001b[0;32m     27\u001b[0m         decreasing_line_color\u001b[38;5;241m=\u001b[39m\u001b[38;5;124m\"\u001b[39m\u001b[38;5;124m#FF3A4C\u001b[39m\u001b[38;5;124m\"\u001b[39m,\n\u001b[0;32m     28\u001b[0m     ))\n",
      "\u001b[1;31mTypeError\u001b[0m: CandlePlot.add_timestr() missing 1 required positional argument: 'time_str'"
     ]
    }
   ],
   "source": [
    "cp = CandlePlot(df_plot)\n",
    "cp.show_plot()"
   ]
  },
  {
   "cell_type": "code",
   "execution_count": null,
   "id": "a1664c85",
   "metadata": {},
   "outputs": [],
   "source": []
  }
 ],
 "metadata": {
  "kernelspec": {
   "display_name": "venv",
   "language": "python",
   "name": "python3"
  },
  "language_info": {
   "codemirror_mode": {
    "name": "ipython",
    "version": 3
   },
   "file_extension": ".py",
   "mimetype": "text/x-python",
   "name": "python",
   "nbconvert_exporter": "python",
   "pygments_lexer": "ipython3",
   "version": "3.10.5"
  }
 },
 "nbformat": 4,
 "nbformat_minor": 5
}
